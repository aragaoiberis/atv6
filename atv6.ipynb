{
 "cells": [
  {
   "cell_type": "markdown",
   "metadata": {},
   "source": [
    "# Questão 1\n",
    "\n",
    "Nem sempre o tempo de execução de um código depende apenas do algoritmo. A linguagem de programação utilizada pode ter um grande impacto. Neste exercício, vamos comparar o desempenho de Python e Fortran ao realizar o mesmo cálculo.\n",
    "\n",
    "a) O problema: multiplicação escalar-vetor\n",
    "\n",
    "Considere o problema de multiplicar cada elemento de um vetor por um número escalar α\n",
    ":\n",
    "\n",
    "$yi=α⋅x_i$ para $i=1,2,…,N$\n",
    "\n",
    "Implemente isso em Python, de pelo menos duas maneiras:\n",
    "\n",
    "1. Usando um laço `for` puro.\n",
    "2. Usando uma abordagem vetorizada com `numpy`.\n",
    "\n",
    "b) Código em Fortran\n",
    "\n",
    "O mesmo problema pode ser resolvido com o código `escala_vetor.f90`(arquivo separado).\n",
    "\n",
    "Compile com:\n",
    "\n",
    "```bash\n",
    "gfortran -O2 escala_vetor.f90 -o escala_vetor\n",
    "```\n",
    "\n",
    "c) Comparando os tempos\n",
    "\n",
    "- Meça o tempo de execução em Python (com `time.time()`) e em Fortran (com `cpu_time`).\n",
    "- Execute para N=105, 106, 107, 108\n",
    ".\n",
    "- Plote os tempos em escala log-log.\n",
    "- Qual linguagem é mais rápida? Em quanto?\n",
    "\n",
    "d) (Exploração mais desafiadora)\n",
    "\n",
    "Adapte a tarefa para fazer a soma de todos os produtos:\n",
    "\n",
    "s=∑Ni=1α⋅xi\n",
    "\n",
    "- Faça isso em Python com `for`, com `numpy.dot` e usando `numba` (se possível).\n",
    "- Adapte o código Fortran para fazer a mesma coisa.\n",
    "- Compare os tempos novamente.\n",
    "- Discuta: o quanto o uso de bibliotecas otimizadas ou compiladores afeta o tempo de execução?\n",
    "\n",
    "Reflexão:\n",
    "Este exercício mostra que a linguagem de programação escolhida e a forma como se escreve um código podem afetar significativamente o desempenho. Ferramentas como NumPy, Numba, Cython e Fortran oferecem vantagens de desempenho, especialmente em tarefas numéricas repetitivas."
   ]
  },
  {
   "cell_type": "markdown",
   "metadata": {},
   "source": [
    "## a) vetor $\\cdot$ escalar"
   ]
  },
  {
   "cell_type": "code",
   "execution_count": 2,
   "metadata": {},
   "outputs": [],
   "source": [
    "import numpy as np\n",
    "import time"
   ]
  },
  {
   "cell_type": "markdown",
   "metadata": {},
   "source": [
    "Usando o laço `for`"
   ]
  },
  {
   "cell_type": "code",
   "execution_count": 3,
   "metadata": {},
   "outputs": [],
   "source": [
    "def prod_for(v):\n",
    "    escalar = 2.0\n",
    "    v_temp = [1.0] * len(v)\n",
    "    for i in range(len(v)):\n",
    "        v_temp[i] = v[i] * escalar\n",
    "    return v_temp"
   ]
  },
  {
   "cell_type": "markdown",
   "metadata": {},
   "source": [
    "Usando o `numpy`"
   ]
  },
  {
   "cell_type": "code",
   "execution_count": 4,
   "metadata": {},
   "outputs": [],
   "source": [
    "def prod_numpy(v):\n",
    "    escalar = 2.0\n",
    "    return v * escalar"
   ]
  },
  {
   "cell_type": "markdown",
   "metadata": {},
   "source": [
    "comparação"
   ]
  },
  {
   "cell_type": "code",
   "execution_count": 10,
   "metadata": {},
   "outputs": [],
   "source": [
    "def comparar_tempo():\n",
    "    N = [10**5, 10**6, 10**7, 10**8]\n",
    "\n",
    "    print(\"Teste de desempenho para multiplicação escalar-vetor\")\n",
    "    print(\"{:<10} {:<15} {:<15} {:<10}\".format(\n",
    "        \"Tamanho\", \"Tempo laço (s)\", \"Tempo numpy (s)\", \"Ganho\"))\n",
    "    \n",
    "\n",
    "    for n in N:\n",
    "        #testa o laço for \n",
    "        v_lista = [1.0] * n\n",
    "        inicio = time.time()\n",
    "        _ = prod_for(v_lista)\n",
    "        t_laço = time.time() - inicio\n",
    "\n",
    "        #testa o NumPy\n",
    "        v_np = np.ones(n)\n",
    "        inicio = time.time()\n",
    "        _ = prod_numpy(v_np)\n",
    "        t_numpy = time.time() - inicio\n",
    "\n",
    "        # Calcula o ganho de desempenho\n",
    "        ganho = t_laço / t_numpy if t_numpy > 0 else float('inf')\n",
    "\n",
    "        print(\"{:<10} {:<15.4f} {:<15.4f} {:<10.1f}x\".format(\n",
    "              n, t_laço, t_numpy, ganho))"
   ]
  },
  {
   "cell_type": "code",
   "execution_count": 11,
   "metadata": {},
   "outputs": [
    {
     "name": "stdout",
     "output_type": "stream",
     "text": [
      "Teste de desempenho para multiplicação escalar-vetor\n",
      "Tamanho    Tempo laço (s)  Tempo numpy (s) Ganho     \n",
      "100000     0.0101          0.0049          2.1       x\n",
      "1000000    0.0638          0.0211          3.0       x\n",
      "10000000   0.5875          0.1635          3.6       x\n",
      "100000000  5.9873          2.7902          2.1       x\n"
     ]
    }
   ],
   "source": [
    "comparar_tempo()"
   ]
  },
  {
   "cell_type": "markdown",
   "metadata": {},
   "source": [
    "## b) Código em Fortran"
   ]
  },
  {
   "cell_type": "code",
   "execution_count": 1,
   "metadata": {},
   "outputs": [
    {
     "name": "stdout",
     "output_type": "stream",
     "text": [
      " Tempo (s):   3.0000000000307558E-006\n",
      "\n"
     ]
    }
   ],
   "source": [
    "!gfortran -O2 escala_vetor.f90 -o escala_vetor\n",
    "import subprocess\n",
    "result = subprocess.run(['./escala_vetor'], capture_output=True, text=True)\n",
    "print(result.stdout)"
   ]
  },
  {
   "cell_type": "code",
   "execution_count": 10,
   "metadata": {},
   "outputs": [
    {
     "name": "stdout",
     "output_type": "stream",
     "text": [
      "Tamanho    Tempo fortran (s)\n",
      "100000     0.0004         \n",
      "1000000    0.0026         \n",
      "10000000   0.0343         \n",
      "100000000  0.3334         \n"
     ]
    }
   ],
   "source": [
    "Ns = [10**5, 10**6, 10**7, 10**8]\n",
    "tempos = []\n",
    "\n",
    "print(\"{:<10} {:<15}\".format(\n",
    "        \"Tamanho\", \"Tempo fortran (s)\"))\n",
    "\n",
    "for N in Ns:\n",
    "    with open('escala_vetor.f90', 'r') as file:\n",
    "        codigo = file.read()\n",
    "    \n",
    "    # Modifica N e adiciona verificação de y\n",
    "    codigo_modificado = codigo.replace(\n",
    "        'integer, parameter :: N = 100000000',\n",
    "        f'integer, parameter :: N = {N}'\n",
    "    ).replace(\n",
    "        'print *, \"Tempo (s):\", t2 - t1',\n",
    "        'print *, \"Tempo (s):\", t2 - t1, y(1), y(N)'\n",
    "    )\n",
    "    \n",
    "    with open('temp.f90', 'w') as file:\n",
    "        file.write(codigo_modificado)\n",
    "    \n",
    "    # Compila e executa\n",
    "    subprocess.run(['gfortran', '-O2', 'temp.f90', '-o', 'temp_exec'], check=True)\n",
    "    resultado = subprocess.run(['./temp_exec'], capture_output=True, text=True)\n",
    "    \n",
    "    # Extrai o tempo (primeiro valor da saída)\n",
    "    tempo = float(resultado.stdout.split()[2])\n",
    "    tempos.append(tempo)\n",
    "\n",
    "    print(\"{:<10} {:<15.4f}\".format(\n",
    "              N, tempo))\n",
    "    \n"
   ]
  },
  {
   "cell_type": "markdown",
   "metadata": {},
   "source": [
    "# Questão 2\n",
    "\n",
    "Mesmo operações simples podem ter tempos de execução diferentes dependendo da forma como são escritas ou implementadas. Neste exercício, você testará a rapidez de comandos simples repetidos muitas vezes, usando o módulo `time`.\n",
    "\n",
    "a) Loop de soma simples\n",
    "\n",
    "Escreva um código que calcule a soma de 1+2+3+⋯+N\n",
    " usando um laço `for`, com:\n",
    "\n",
    "```python\n",
    "soma = 0\n",
    "for i in range(1, N+1):\n",
    "    soma += i\n",
    "```\n",
    "\n",
    "Use o módulo `time` para medir o tempo de execução para diferentes valores de $N=10^5,10^6,10^7$\n",
    ".\n",
    "\n",
    "b) Alternativa com `sum(range(...))`\n",
    "\n",
    "Agora calcule a mesma soma com:\n",
    "\n",
    "```python\n",
    "soma = sum(range(1, N+1))\n",
    "```\n",
    "\n",
    "Compare os tempos com a abordagem do laço `for`. Qual é mais rápida? Por quê?\n",
    "\n",
    "c) Fórmula direta\n",
    "\n",
    "Use a fórmula matemática:\n",
    "\n",
    "S=N(N+1)2\n",
    "\n",
    "Implemente-a e meça o tempo. Compare com os métodos anteriores. O que você observa?\n",
    "\n",
    "d) (Exploração mais desafiadora)\n",
    "\n",
    "Implemente uma função que execute a mesma soma, mas armazenando todos os resultados parciais em uma lista:\n",
    "\n",
    "```python\n",
    "somas = []\n",
    "s = 0\n",
    "for i in range(1, N+1):\n",
    "    s += i\n",
    "    somas.append(s)\n",
    "```\n",
    "\n",
    "- Meça o tempo de execução para diferentes valores de N\n",
    ".\n",
    "- Compare com as outras abordagens.\n",
    "- Discuta: o que faz esse método ser mais lento? O uso de `append()` impacta o desempenho?\n",
    "\n",
    "Reflexão:\n",
    "Mesmo que o resultado final seja o mesmo, a forma como você escreve o código pode impactar drasticamente o tempo de execução. À medida que o volume de dados aumenta, escolhas simples de implementação podem se tornar gargalos de desempenho."
   ]
  },
  {
   "cell_type": "markdown",
   "metadata": {},
   "source": [
    "## a) Loop de soma simples usando o laço `for`"
   ]
  },
  {
   "cell_type": "code",
   "execution_count": 28,
   "metadata": {},
   "outputs": [
    {
     "name": "stdout",
     "output_type": "stream",
     "text": [
      "Soma para N = 1.0e+05:\n",
      "Tempo de execução: 0.006225000000085856 \n",
      "\n",
      "Soma para N = 1.0e+06:\n",
      "Tempo de execução: 0.0637853999996878 \n",
      "\n",
      "Soma para N = 1.0e+07:\n",
      "Tempo de execução: 0.6332339000000502 \n",
      "\n"
     ]
    }
   ],
   "source": [
    "# Calcula a soma de 1+2+3+...+N\n",
    "import timeit\n",
    "N = 10**5, 10**6, 10**7\n",
    "\n",
    "def soma_for(n):\n",
    "    soma = 0\n",
    "    for i in range(1, n+1):\n",
    "        soma += i\n",
    "    return soma\n",
    "\n",
    "for n in N:\n",
    "    tempo = timeit.timeit(lambda: soma_for(n), number=1)\n",
    "    print(f\"Soma para N = {n:.1e}:\")\n",
    "    print(f\"Tempo de execução: {tempo} \\n\")\n",
    "\n",
    "\n"
   ]
  },
  {
   "cell_type": "markdown",
   "metadata": {},
   "source": [
    "## b) Loop de soma simples usando a função `sum(range(...))`"
   ]
  },
  {
   "cell_type": "code",
   "execution_count": 29,
   "metadata": {},
   "outputs": [
    {
     "name": "stdout",
     "output_type": "stream",
     "text": [
      "Soma para N = 1.0e+05:\n",
      "Tempo de execução: 0.002283499999975902 \n",
      "\n",
      "Soma para N = 1.0e+06:\n",
      "Tempo de execução: 0.02329439999994065 \n",
      "\n",
      "Soma para N = 1.0e+07:\n",
      "Tempo de execução: 0.22230320000016945 \n",
      "\n"
     ]
    }
   ],
   "source": [
    "def soma_f(n):\n",
    "    soma = sum(range(1, n+1))\n",
    "    return soma\n",
    "\n",
    "for n in N:\n",
    "    tempo = timeit.timeit(lambda: soma_f(n), number=1)\n",
    "    print(f\"Soma para N = {n:.1e}:\")\n",
    "    print(f\"Tempo de execução: {tempo} \\n\")\n",
    "\n"
   ]
  },
  {
   "cell_type": "markdown",
   "metadata": {},
   "source": [
    "## c) Loop de soma simples usando a fórmula direta $S = \\frac{N(N+1)}{2}$"
   ]
  },
  {
   "cell_type": "code",
   "execution_count": 33,
   "metadata": {},
   "outputs": [
    {
     "name": "stdout",
     "output_type": "stream",
     "text": [
      "Soma para N = 1.0e+05:\n",
      "Tempo de execução: 0.01091290000022127 \n",
      "\n",
      "Soma para N = 1.0e+06:\n",
      "Tempo de execução: 0.13266660000044794 \n",
      "\n",
      "Soma para N = 1.0e+07:\n",
      "Tempo de execução: 1.2515213999995467 \n",
      "\n"
     ]
    }
   ],
   "source": [
    "def soma_dir(n):\n",
    "    soma = []\n",
    "    s = 0\n",
    "    for i in range(1, n+1):\n",
    "        s += i\n",
    "        soma.append(s)\n",
    "    return soma\n",
    "\n",
    "for n in N:\n",
    "    tempo = timeit.timeit(lambda: soma_dir(n), number=1)\n",
    "    print(f\"Soma para N = {n:.1e}:\")\n",
    "    print(f\"Tempo de execução: {tempo} \\n\")"
   ]
  },
  {
   "cell_type": "markdown",
   "metadata": {},
   "source": [
    "# Questão 3\n",
    "\n",
    "Entenda como diferentes linguagens podem ter velocidades diferentes. A seguir, apresentamos códigos que descrevem o movimento de uma particula \n",
    "\n",
    "a) Como diferentes linguagens podem ter impacto na velocidade de um código? Explique. \n",
    "\n",
    "b) Compile o programa no link em Fortran. Rode o programa e escreva sua saída. Altere a declaração da variável para double precision e escreva a saída. Qual a diferença?\n",
    "\n",
    "c)  Faça o download dos códigos em Fortran e Java dos respectivos links que tratam do movimento de uma partícula em 1-D sob acao de forca elastica (f(x) = -kx) usando o método de Euler\n",
    "\n",
    "- Fortran e Java\n",
    "\n",
    "Explique o método de Euler e a física por trás? Como melhorar? Estime para as mesmas condições a velocidade em cada uma das linguagens. Faça um gráfico da posição x e a velocidade v em função do tempo.  (Faça o fluxograma dos programas); "
   ]
  },
  {
   "cell_type": "code",
   "execution_count": null,
   "metadata": {},
   "outputs": [],
   "source": []
  }
 ],
 "metadata": {
  "kernelspec": {
   "display_name": ".conda",
   "language": "python",
   "name": "python3"
  },
  "language_info": {
   "codemirror_mode": {
    "name": "ipython",
    "version": 3
   },
   "file_extension": ".py",
   "mimetype": "text/x-python",
   "name": "python",
   "nbconvert_exporter": "python",
   "pygments_lexer": "ipython3",
   "version": "3.12.11"
  }
 },
 "nbformat": 4,
 "nbformat_minor": 2
}
