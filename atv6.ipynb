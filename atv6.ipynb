{
 "cells": [
  {
   "cell_type": "markdown",
   "metadata": {},
   "source": [
    "# Questão 1\n",
    "\n",
    "Nem sempre o tempo de execução de um código depende apenas do algoritmo. A linguagem de programação utilizada pode ter um grande impacto. Neste exercício, vamos comparar o desempenho de Python e Fortran ao realizar o mesmo cálculo.\n",
    "\n",
    "a) O problema: multiplicação escalar-vetor\n",
    "\n",
    "Considere o problema de multiplicar cada elemento de um vetor por um número escalar α\n",
    ":\n",
    "\n",
    "$yi=α⋅x_i$ para $i=1,2,…,N$\n",
    "\n",
    "Implemente isso em Python, de pelo menos duas maneiras:\n",
    "\n",
    "1. Usando um laço `for` puro.\n",
    "2. Usando uma abordagem vetorizada com `numpy`.\n",
    "\n",
    "b) Código em Fortran\n",
    "\n",
    "O mesmo problema pode ser resolvido com o código `escala_vetor.f90`(arquivo separado).\n",
    "\n",
    "Compile com:\n",
    "\n",
    "```bash\n",
    "gfortran -O2 escala_vetor.f90 -o escala_vetor\n",
    "```\n",
    "\n",
    "c) Comparando os tempos\n",
    "\n",
    "- Meça o tempo de execução em Python (com `time.time()`) e em Fortran (com `cpu_time`).\n",
    "- Execute para N=105, 106, 107, 108\n",
    ".\n",
    "- Plote os tempos em escala log-log.\n",
    "- Qual linguagem é mais rápida? Em quanto?\n",
    "\n",
    "d) (Exploração mais desafiadora)\n",
    "\n",
    "Adapte a tarefa para fazer a soma de todos os produtos:\n",
    "\n",
    "s=∑Ni=1α⋅xi\n",
    "\n",
    "- Faça isso em Python com `for`, com `numpy.dot` e usando `numba` (se possível).\n",
    "- Adapte o código Fortran para fazer a mesma coisa.\n",
    "- Compare os tempos novamente.\n",
    "- Discuta: o quanto o uso de bibliotecas otimizadas ou compiladores afeta o tempo de execução?\n",
    "\n",
    "Reflexão:\n",
    "Este exercício mostra que a linguagem de programação escolhida e a forma como se escreve um código podem afetar significativamente o desempenho. Ferramentas como NumPy, Numba, Cython e Fortran oferecem vantagens de desempenho, especialmente em tarefas numéricas repetitivas."
   ]
  },
  {
   "cell_type": "code",
   "execution_count": null,
   "metadata": {},
   "outputs": [],
   "source": []
  },
  {
   "cell_type": "markdown",
   "metadata": {},
   "source": [
    "# Questão 2\n",
    "\n",
    "Mesmo operações simples podem ter tempos de execução diferentes dependendo da forma como são escritas ou implementadas. Neste exercício, você testará a rapidez de comandos simples repetidos muitas vezes, usando o módulo `time`.\n",
    "\n",
    "a) Loop de soma simples\n",
    "\n",
    "Escreva um código que calcule a soma de 1+2+3+⋯+N\n",
    " usando um laço `for`, com:\n",
    "\n",
    "```python\n",
    "soma = 0\n",
    "for i in range(1, N+1):\n",
    "    soma += i\n",
    "```\n",
    "\n",
    "Use o módulo `time` para medir o tempo de execução para diferentes valores de $N=10^5,10^6,10^7$\n",
    ".\n",
    "\n",
    "b) Alternativa com `sum(range(...))`\n",
    "\n",
    "Agora calcule a mesma soma com:\n",
    "\n",
    "```python\n",
    "soma = sum(range(1, N+1))\n",
    "```\n",
    "\n",
    "Compare os tempos com a abordagem do laço `for`. Qual é mais rápida? Por quê?\n",
    "\n",
    "c) Fórmula direta\n",
    "\n",
    "Use a fórmula matemática:\n",
    "\n",
    "S=N(N+1)2\n",
    "\n",
    "Implemente-a e meça o tempo. Compare com os métodos anteriores. O que você observa?\n",
    "\n",
    "d) (Exploração mais desafiadora)\n",
    "\n",
    "Implemente uma função que execute a mesma soma, mas armazenando todos os resultados parciais em uma lista:\n",
    "\n",
    "```python\n",
    "somas = []\n",
    "s = 0\n",
    "for i in range(1, N+1):\n",
    "    s += i\n",
    "    somas.append(s)\n",
    "```\n",
    "\n",
    "- Meça o tempo de execução para diferentes valores de N\n",
    ".\n",
    "- Compare com as outras abordagens.\n",
    "- Discuta: o que faz esse método ser mais lento? O uso de `append()` impacta o desempenho?\n",
    "\n",
    "Reflexão:\n",
    "Mesmo que o resultado final seja o mesmo, a forma como você escreve o código pode impactar drasticamente o tempo de execução. À medida que o volume de dados aumenta, escolhas simples de implementação podem se tornar gargalos de desempenho."
   ]
  },
  {
   "cell_type": "markdown",
   "metadata": {},
   "source": [
    "## a) Loop de soma simples"
   ]
  },
  {
   "cell_type": "code",
   "execution_count": 24,
   "metadata": {},
   "outputs": [
    {
     "name": "stdout",
     "output_type": "stream",
     "text": [
      "Soma para N = 1.0e+05:\n",
      "Tempo de execução: 0.007514699999774166 \n",
      "\n",
      "Soma para N = 1.0e+06:\n",
      "Tempo de execução: 0.10581559999991441 \n",
      "\n",
      "Soma para N = 1.0e+07:\n",
      "Tempo de execução: 0.6308214999999109 \n",
      "\n"
     ]
    }
   ],
   "source": [
    "# Calcula a soma de 1+2+3+...+N\n",
    "import timeit\n",
    "N = 10**5, 10**6, 10**7\n",
    "\n",
    "def soma_for(n):\n",
    "    soma = 0\n",
    "    for i in range(1, n+1):\n",
    "        soma += i\n",
    "    return soma\n",
    "\n",
    "for n in N:\n",
    "    tempo = timeit.timeit(lambda: soma_for(n), number=1)\n",
    "    print(f\"Soma para N = {n:.1e}:\")\n",
    "    print(f\"Tempo de execução: {tempo} \\n\")\n",
    "\n",
    "\n"
   ]
  },
  {
   "cell_type": "markdown",
   "metadata": {},
   "source": [
    "# Questão 3\n",
    "\n",
    "Entenda como diferentes linguagens podem ter velocidades diferentes. A seguir, apresentamos códigos que descrevem o movimento de uma particula \n",
    "\n",
    "a) Como diferentes linguagens podem ter impacto na velocidade de um código? Explique. \n",
    "\n",
    "b) Compile o programa no link em Fortran. Rode o programa e escreva sua saída. Altere a declaração da variável para double precision e escreva a saída. Qual a diferença?\n",
    "\n",
    "c)  Faça o download dos códigos em Fortran e Java dos respectivos links que tratam do movimento de uma partícula em 1-D sob acao de forca elastica (f(x) = -kx) usando o método de Euler\n",
    "\n",
    "- Fortran e Java\n",
    "\n",
    "Explique o método de Euler e a física por trás? Como melhorar? Estime para as mesmas condições a velocidade em cada uma das linguagens. Faça um gráfico da posição x e a velocidade v em função do tempo.  (Faça o fluxograma dos programas); "
   ]
  },
  {
   "cell_type": "code",
   "execution_count": null,
   "metadata": {},
   "outputs": [],
   "source": []
  }
 ],
 "metadata": {
  "kernelspec": {
   "display_name": "base",
   "language": "python",
   "name": "python3"
  },
  "language_info": {
   "codemirror_mode": {
    "name": "ipython",
    "version": 3
   },
   "file_extension": ".py",
   "mimetype": "text/x-python",
   "name": "python",
   "nbconvert_exporter": "python",
   "pygments_lexer": "ipython3",
   "version": "3.12.7"
  }
 },
 "nbformat": 4,
 "nbformat_minor": 2
}
